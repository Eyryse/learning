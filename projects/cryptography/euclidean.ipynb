{
  "nbformat": 4,
  "nbformat_minor": 0,
  "metadata": {
    "colab": {
      "name": "Cryptography.ipynb",
      "provenance": []
    },
    "kernelspec": {
      "name": "python3",
      "display_name": "Python 3"
    },
    "language_info": {
      "name": "python"
    }
  },
  "cells": [
    {
      "cell_type": "code",
      "execution_count": null,
      "metadata": {
        "id": "cdZLMBUsQB5D"
      },
      "outputs": [],
      "source": [
        "import math\n",
        "\n",
        "def gcd(a, b):\n",
        "  if (b == 0):\n",
        "    return a\n",
        "\n",
        "  return gcd(b, a % b)\n",
        "\n",
        "def extended_gcd_helper(a1, a2, a3, b1, b2, b3):\n",
        "  if b3 == 0:\n",
        "    return { \"s\": a1, \"t\": a2, \"d\": a3 }\n",
        "  elif b3 == 1:\n",
        "    return { \"s\": b1, \"t\": b2, \"d\": b3 }\n",
        "  q = math.floor(a3 / b3)\n",
        "  t1 = a1 - (q * b1)\n",
        "  t2 = a2 - (q * b2)\n",
        "  t3 = a3 - (q * b3)\n",
        "  return extended_gcd_helper(b1, b2, b3, t1, t2, t3)\n",
        "\n",
        "def extended_gcd(a, b):\n",
        "  return extended_gcd_helper(1, 0, a, 0, 1, b)\n",
        "\n",
        "print(extended_gcd(550, 1759))"
      ]
    },
    {
      "cell_type": "code",
      "source": [
        "p = 13\n",
        "q = 19\n",
        "n = p * q\n",
        "thN = (p - 1) * (q - 1)\n",
        "e = 5\n",
        "public = (e, n)\n",
        "d = pow(e, -1, thN)\n",
        "private = (d, p, q)"
      ],
      "metadata": {
        "id": "_1-vmJ8UDiVq"
      },
      "execution_count": null,
      "outputs": []
    },
    {
      "cell_type": "code",
      "source": [
        "from functools import reduce\n",
        "\n",
        "def factors(n):    \n",
        "    return set(reduce(list.__add__, \n",
        "                ([i, n//i] for i in range(1, int(n**0.5) + 1) if n % i == 0)))\n",
        "\n",
        "e = int('010001', 16)\n",
        "n = int('05e5e206ea239a0bfdbb3999bd73cb33b7', 16)\n",
        "\n",
        "print(n)\n",
        "print(factors(n))"
      ],
      "metadata": {
        "id": "o_xMnWhAZUsY"
      },
      "execution_count": null,
      "outputs": []
    }
  ]
}